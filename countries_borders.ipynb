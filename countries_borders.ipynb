{
 "cells": [
  {
   "cell_type": "code",
   "execution_count": 61,
   "metadata": {},
   "outputs": [],
   "source": [
    "from main import from_xy"
   ]
  },
  {
   "cell_type": "code",
   "execution_count": 12,
   "metadata": {},
   "outputs": [
    {
     "name": "stdout",
     "output_type": "stream",
     "text": [
      "         ADMIN ISO_A3                                           geometry\n",
      "0        Aruba    ABW  POLYGON ((-69.99694 12.57758, -69.93639 12.531...\n",
      "1  Afghanistan    AFG  POLYGON ((71.04980 38.40866, 71.05714 38.40903...\n",
      "2       Angola    AGO  MULTIPOLYGON (((11.73752 -16.69258, 11.73851 -...\n",
      "3     Anguilla    AIA  MULTIPOLYGON (((-63.03767 18.21296, -63.09952 ...\n",
      "4      Albania    ALB  POLYGON ((19.74777 42.57890, 19.74601 42.57993...\n"
     ]
    }
   ],
   "source": [
    "import geopandas as gpd\n",
    "countries = gpd.read_file('data/countries.geojson')\n",
    "print(countries.head())"
   ]
  },
  {
   "cell_type": "code",
   "execution_count": 13,
   "metadata": {
    "pycharm": {
     "name": "#%%\n"
    }
   },
   "outputs": [
    {
     "data": {
      "text/html": [
       "<div>\n",
       "<style scoped>\n",
       "    .dataframe tbody tr th:only-of-type {\n",
       "        vertical-align: middle;\n",
       "    }\n",
       "\n",
       "    .dataframe tbody tr th {\n",
       "        vertical-align: top;\n",
       "    }\n",
       "\n",
       "    .dataframe thead th {\n",
       "        text-align: right;\n",
       "    }\n",
       "</style>\n",
       "<table border=\"1\" class=\"dataframe\">\n",
       "  <thead>\n",
       "    <tr style=\"text-align: right;\">\n",
       "      <th></th>\n",
       "      <th>ADMIN</th>\n",
       "      <th>ISO_A3</th>\n",
       "      <th>geometry</th>\n",
       "    </tr>\n",
       "  </thead>\n",
       "  <tbody>\n",
       "    <tr>\n",
       "      <th>104</th>\n",
       "      <td>India</td>\n",
       "      <td>IND</td>\n",
       "      <td>MULTIPOLYGON (((93.85532 7.21418, 93.86500 7.2...</td>\n",
       "    </tr>\n",
       "  </tbody>\n",
       "</table>\n",
       "</div>"
      ],
      "text/plain": [
       "     ADMIN ISO_A3                                           geometry\n",
       "104  India    IND  MULTIPOLYGON (((93.85532 7.21418, 93.86500 7.2..."
      ]
     },
     "execution_count": 13,
     "metadata": {},
     "output_type": "execute_result"
    }
   ],
   "source": [
    "countries[countries.ADMIN == 'India']"
   ]
  },
  {
   "cell_type": "code",
   "execution_count": 14,
   "metadata": {
    "pycharm": {
     "name": "#%%\n"
    }
   },
   "outputs": [],
   "source": [
    "nb_polygons, nb_vertices = 0, 0\n",
    "\n",
    "for i in range(0, len(countries)):\n",
    "    polygons = countries.iloc[i, 2]\n",
    "    try:\n",
    "        x, y = polygons.exterior.coords.xy\n",
    "        nb_polygons += 1\n",
    "        nb_vertices += len(x)\n",
    "    except AttributeError:\n",
    "        polygons = list(polygons)\n",
    "        for p in polygons:\n",
    "            x, y = p.exterior.coords.xy\n",
    "            nb_polygons += 1\n",
    "            nb_vertices += len(x)"
   ]
  },
  {
   "cell_type": "code",
   "execution_count": 15,
   "metadata": {
    "pycharm": {
     "name": "#%%\n"
    }
   },
   "outputs": [
    {
     "data": {
      "text/plain": [
       "(4252, 548038)"
      ]
     },
     "execution_count": 15,
     "metadata": {},
     "output_type": "execute_result"
    }
   ],
   "source": [
    "nb_polygons, nb_vertices # A lot of vertices!"
   ]
  },
  {
   "cell_type": "markdown",
   "metadata": {},
   "source": [
    "Now the objective is to build a dictionary having every country as keys, and a list of its polygons as values. We also need another dictionary that keeps track of the countries center [IF NEEDED].   \n",
    "As the dataset is quite large, we also need to build three separate dataset : small, medium, and large."
   ]
  },
  {
   "cell_type": "code",
   "execution_count": 81,
   "metadata": {},
   "outputs": [],
   "source": [
    "from data import Country\n",
    "countries_list = []\n",
    "for i in range(0, len(countries)):\n",
    "    name = countries.iloc[i, 0]\n",
    "    polygons = countries.iloc[i, 2]\n",
    "    try:\n",
    "        x, y = polygons.exterior.coords.xy\n",
    "        poly = [from_xy(x, y)]\n",
    "    except:\n",
    "        poly = []\n",
    "        for p in polygons:\n",
    "            x, y = p.exterior.coords.xy\n",
    "            poly.append(from_xy(x, y))\n",
    "\n",
    "    countries_list.append(Country(poly, name))\n",
    "    countries_list[len(countries_list) - 1].batch()"
   ]
  },
  {
   "cell_type": "code",
   "execution_count": 82,
   "metadata": {
    "collapsed": true
   },
   "outputs": [
    {
     "name": "stdout",
     "output_type": "stream",
     "text": [
      "Aruba: 1 polygon.s ; big: 52 ; medium: 26 ; small: 6\n",
      "Afghanistan: 1 polygon.s ; big: 3066 ; medium: 1533 ; small: 307\n",
      "Angola: 3 polygon.s ; big: 3290 ; medium: 1645 ; small: 330\n",
      "Anguilla: 2 polygon.s ; big: 56 ; medium: 28 ; small: 6\n",
      "Albania: 1 polygon.s ; big: 1114 ; medium: 557 ; small: 112\n",
      "Aland: 16 polygon.s ; big: 944 ; medium: 472 ; small: 99\n",
      "Andorra: 1 polygon.s ; big: 102 ; medium: 51 ; small: 11\n",
      "United Arab Emirates: 10 polygon.s ; big: 1570 ; medium: 785 ; small: 161\n",
      "Argentina: 8 polygon.s ; big: 9402 ; medium: 4701 ; small: 943\n",
      "Armenia: 2 polygon.s ; big: 834 ; medium: 417 ; small: 84\n",
      "American Samoa: 5 polygon.s ; big: 124 ; medium: 62 ; small: 14\n",
      "Antarctica: 179 polygon.s ; big: 47672 ; medium: 23836 ; small: 4837\n",
      "Ashmore and Cartier Islands: 1 polygon.s ; big: 10 ; medium: 5 ; small: 1\n",
      "French Southern and Antarctic Lands: 18 polygon.s ; big: 1066 ; medium: 533 ; small: 114\n",
      "Antigua and Barbuda: 2 polygon.s ; big: 216 ; medium: 108 ; small: 22\n",
      "Australia: 94 polygon.s ; big: 27300 ; medium: 13650 ; small: 2771\n",
      "Austria: 1 polygon.s ; big: 2194 ; medium: 1097 ; small: 220\n",
      "Azerbaijan: 6 polygon.s ; big: 1896 ; medium: 948 ; small: 191\n",
      "Burundi: 1 polygon.s ; big: 614 ; medium: 307 ; small: 62\n",
      "Belgium: 1 polygon.s ; big: 1306 ; medium: 653 ; small: 131\n",
      "Benin: 1 polygon.s ; big: 1234 ; medium: 617 ; small: 124\n",
      "Burkina Faso: 1 polygon.s ; big: 2222 ; medium: 1111 ; small: 223\n",
      "Bangladesh: 22 polygon.s ; big: 4568 ; medium: 2284 ; small: 466\n",
      "Bulgaria: 1 polygon.s ; big: 1760 ; medium: 880 ; small: 176\n",
      "Bahrain: 1 polygon.s ; big: 106 ; medium: 53 ; small: 11\n",
      "The Bahamas: 42 polygon.s ; big: 3218 ; medium: 1609 ; small: 341\n",
      "Bosnia and Herzegovina: 1 polygon.s ; big: 1246 ; medium: 623 ; small: 125\n",
      "Bajo Nuevo Bank (Petrel Is.): 1 polygon.s ; big: 10 ; medium: 5 ; small: 1\n",
      "Saint Barthelemy: 1 polygon.s ; big: 22 ; medium: 11 ; small: 3\n",
      "Belarus: 1 polygon.s ; big: 2352 ; medium: 1176 ; small: 236\n",
      "Belize: 10 polygon.s ; big: 988 ; medium: 494 ; small: 102\n",
      "Bermuda: 2 polygon.s ; big: 170 ; medium: 85 ; small: 18\n",
      "Bolivia: 1 polygon.s ; big: 2988 ; medium: 1494 ; small: 299\n",
      "Brazil: 43 polygon.s ; big: 22248 ; medium: 11124 ; small: 2246\n",
      "Barbados: 1 polygon.s ; big: 70 ; medium: 35 ; small: 7\n",
      "Brunei: 2 polygon.s ; big: 314 ; medium: 157 ; small: 33\n",
      "Bhutan: 1 polygon.s ; big: 658 ; medium: 329 ; small: 66\n",
      "Botswana: 1 polygon.s ; big: 1912 ; medium: 956 ; small: 192\n",
      "Central African Republic: 1 polygon.s ; big: 3584 ; medium: 1792 ; small: 359\n",
      "Canada: 410 polygon.s ; big: 136318 ; medium: 68159 ; small: 13806\n",
      "Switzerland: 1 polygon.s ; big: 1500 ; medium: 750 ; small: 150\n",
      "Chile: 163 polygon.s ; big: 34400 ; medium: 17200 ; small: 3508\n",
      "China: 70 polygon.s ; big: 28386 ; medium: 14193 ; small: 2867\n",
      "Ivory Coast: 2 polygon.s ; big: 3208 ; medium: 1604 ; small: 321\n",
      "Clipperton Island: 1 polygon.s ; big: 14 ; medium: 7 ; small: 2\n",
      "Cameroon: 1 polygon.s ; big: 2916 ; medium: 1458 ; small: 292\n",
      "Cyprus No Mans Area: 3 polygon.s ; big: 452 ; medium: 226 ; small: 46\n",
      "Democratic Republic of the Congo: 2 polygon.s ; big: 5736 ; medium: 2868 ; small: 574\n",
      "Republic of Congo: 1 polygon.s ; big: 2690 ; medium: 1345 ; small: 269\n",
      "Cook Islands: 13 polygon.s ; big: 264 ; medium: 132 ; small: 31\n",
      "Colombia: 11 polygon.s ; big: 6576 ; medium: 3288 ; small: 660\n",
      "Comoros: 3 polygon.s ; big: 254 ; medium: 127 ; small: 26\n",
      "Cape Verde: 9 polygon.s ; big: 818 ; medium: 409 ; small: 85\n",
      "Costa Rica: 4 polygon.s ; big: 1634 ; medium: 817 ; small: 165\n",
      "Coral Sea Islands: 1 polygon.s ; big: 8 ; medium: 4 ; small: 1\n",
      "Cuba: 41 polygon.s ; big: 5396 ; medium: 2698 ; small: 554\n",
      "Curaçao: 1 polygon.s ; big: 88 ; medium: 44 ; small: 9\n",
      "Cayman Islands: 3 polygon.s ; big: 162 ; medium: 81 ; small: 17\n",
      "Northern Cyprus: 2 polygon.s ; big: 410 ; medium: 205 ; small: 42\n",
      "Cyprus: 4 polygon.s ; big: 616 ; medium: 308 ; small: 64\n",
      "Czech Republic: 1 polygon.s ; big: 1846 ; medium: 923 ; small: 185\n",
      "Germany: 22 polygon.s ; big: 6062 ; medium: 3031 ; small: 613\n",
      "Djibouti: 1 polygon.s ; big: 418 ; medium: 209 ; small: 42\n",
      "Dominica: 1 polygon.s ; big: 150 ; medium: 75 ; small: 15\n",
      "Denmark: 15 polygon.s ; big: 4362 ; medium: 2181 ; small: 443\n",
      "Dominican Republic: 3 polygon.s ; big: 1160 ; medium: 580 ; small: 118\n",
      "Algeria: 1 polygon.s ; big: 2498 ; medium: 1249 ; small: 250\n",
      "Ecuador: 16 polygon.s ; big: 3032 ; medium: 1516 ; small: 309\n",
      "Egypt: 8 polygon.s ; big: 3840 ; medium: 1920 ; small: 386\n",
      "Eritrea: 3 polygon.s ; big: 2026 ; medium: 1013 ; small: 204\n",
      "Dhekelia Sovereign Base Area: 1 polygon.s ; big: 202 ; medium: 101 ; small: 21\n",
      "Spain: 23 polygon.s ; big: 5960 ; medium: 2980 ; small: 603\n",
      "Estonia: 8 polygon.s ; big: 2092 ; medium: 1046 ; small: 212\n",
      "Ethiopia: 1 polygon.s ; big: 2150 ; medium: 1075 ; small: 215\n",
      "Finland: 42 polygon.s ; big: 6462 ; medium: 3231 ; small: 663\n",
      "Fiji: 44 polygon.s ; big: 2974 ; medium: 1487 ; small: 315\n",
      "Falkland Islands: 15 polygon.s ; big: 2680 ; medium: 1340 ; small: 274\n",
      "France: 21 polygon.s ; big: 9262 ; medium: 4631 ; small: 935\n",
      "Faroe Islands: 11 polygon.s ; big: 970 ; medium: 485 ; small: 101\n",
      "Federated States of Micronesia: 20 polygon.s ; big: 508 ; medium: 254 ; small: 58\n",
      "Gabon: 3 polygon.s ; big: 2924 ; medium: 1462 ; small: 294\n",
      "United Kingdom: 57 polygon.s ; big: 14238 ; medium: 7119 ; small: 1447\n",
      "Georgia: 1 polygon.s ; big: 1072 ; medium: 536 ; small: 108\n",
      "Guernsey: 4 polygon.s ; big: 118 ; medium: 59 ; small: 14\n",
      "Ghana: 1 polygon.s ; big: 1660 ; medium: 830 ; small: 166\n",
      "Gibraltar: 1 polygon.s ; big: 14 ; medium: 7 ; small: 2\n",
      "Guinea: 1 polygon.s ; big: 3260 ; medium: 1630 ; small: 326\n",
      "Gambia: 1 polygon.s ; big: 814 ; medium: 407 ; small: 82\n",
      "Guinea Bissau: 13 polygon.s ; big: 2566 ; medium: 1283 ; small: 260\n",
      "Equatorial Guinea: 3 polygon.s ; big: 504 ; medium: 252 ; small: 52\n",
      "Greece: 74 polygon.s ; big: 12194 ; medium: 6097 ; small: 1248\n",
      "Grenada: 2 polygon.s ; big: 128 ; medium: 64 ; small: 13\n",
      "Greenland: 128 polygon.s ; big: 40270 ; medium: 20135 ; small: 4080\n",
      "Guatemala: 1 polygon.s ; big: 922 ; medium: 461 ; small: 93\n",
      "Guam: 1 polygon.s ; big: 98 ; medium: 49 ; small: 10\n",
      "Guyana: 2 polygon.s ; big: 2244 ; medium: 1122 ; small: 225\n",
      "Hong Kong S.A.R.: 4 polygon.s ; big: 798 ; medium: 399 ; small: 81\n",
      "Heard Island and McDonald Islands: 1 polygon.s ; big: 108 ; medium: 54 ; small: 11\n",
      "Honduras: 7 polygon.s ; big: 2372 ; medium: 1186 ; small: 241\n",
      "Croatia: 25 polygon.s ; big: 4680 ; medium: 2340 ; small: 480\n",
      "Haiti: 5 polygon.s ; big: 1304 ; medium: 652 ; small: 131\n",
      "Hungary: 1 polygon.s ; big: 1700 ; medium: 850 ; small: 170\n",
      "Indonesia: 264 polygon.s ; big: 39134 ; medium: 19567 ; small: 4017\n",
      "Isle of Man: 1 polygon.s ; big: 146 ; medium: 73 ; small: 15\n",
      "India: 35 polygon.s ; big: 15592 ; medium: 7796 ; small: 1574\n",
      "Indian Ocean Territories: 3 polygon.s ; big: 108 ; medium: 54 ; small: 12\n",
      "British Indian Ocean Territory: 10 polygon.s ; big: 204 ; medium: 102 ; small: 26\n",
      "Ireland: 7 polygon.s ; big: 4792 ; medium: 2396 ; small: 482\n",
      "Iran: 12 polygon.s ; big: 5482 ; medium: 2741 ; small: 551\n",
      "Iraq: 1 polygon.s ; big: 1692 ; medium: 846 ; small: 170\n",
      "Iceland: 5 polygon.s ; big: 6234 ; medium: 3117 ; small: 625\n",
      "Israel: 1 polygon.s ; big: 844 ; medium: 422 ; small: 85\n",
      "Italy: 29 polygon.s ; big: 6670 ; medium: 3335 ; small: 683\n",
      "Jamaica: 1 polygon.s ; big: 508 ; medium: 254 ; small: 51\n",
      "Jersey: 1 polygon.s ; big: 94 ; medium: 47 ; small: 10\n",
      "Jordan: 1 polygon.s ; big: 736 ; medium: 368 ; small: 74\n",
      "Japan: 109 polygon.s ; big: 13904 ; medium: 6952 ; small: 1429\n",
      "Baykonur Cosmodrome: 1 polygon.s ; big: 130 ; medium: 65 ; small: 13\n",
      "Siachen Glacier: 1 polygon.s ; big: 76 ; medium: 38 ; small: 8\n",
      "Kazakhstan: 6 polygon.s ; big: 8342 ; medium: 4171 ; small: 836\n",
      "Kenya: 2 polygon.s ; big: 1752 ; medium: 876 ; small: 176\n",
      "Kyrgyzstan: 1 polygon.s ; big: 2256 ; medium: 1128 ; small: 226\n",
      "Cambodia: 6 polygon.s ; big: 2422 ; medium: 1211 ; small: 245\n",
      "Kiribati: 35 polygon.s ; big: 1422 ; medium: 711 ; small: 154\n",
      "Saint Kitts and Nevis: 2 polygon.s ; big: 86 ; medium: 43 ; small: 9\n",
      "South Korea: 53 polygon.s ; big: 6126 ; medium: 3063 ; small: 634\n",
      "Kosovo: 1 polygon.s ; big: 544 ; medium: 272 ; small: 55\n",
      "Kuwait: 4 polygon.s ; big: 500 ; medium: 250 ; small: 51\n",
      "Laos: 1 polygon.s ; big: 3538 ; medium: 1769 ; small: 354\n",
      "Lebanon: 1 polygon.s ; big: 628 ; medium: 314 ; small: 63\n",
      "Liberia: 1 polygon.s ; big: 1396 ; medium: 698 ; small: 140\n",
      "Libya: 1 polygon.s ; big: 1322 ; medium: 661 ; small: 133\n",
      "Saint Lucia: 1 polygon.s ; big: 100 ; medium: 50 ; small: 10\n",
      "Liechtenstein: 1 polygon.s ; big: 58 ; medium: 29 ; small: 6\n",
      "Sri Lanka: 5 polygon.s ; big: 1784 ; medium: 892 ; small: 180\n",
      "Lesotho: 1 polygon.s ; big: 648 ; medium: 324 ; small: 65\n",
      "Lithuania: 2 polygon.s ; big: 1128 ; medium: 564 ; small: 114\n",
      "Luxembourg: 1 polygon.s ; big: 394 ; medium: 197 ; small: 40\n",
      "Latvia: 1 polygon.s ; big: 1088 ; medium: 544 ; small: 109\n",
      "Macao S.A.R: 2 polygon.s ; big: 186 ; medium: 93 ; small: 20\n",
      "Saint Martin: 1 polygon.s ; big: 48 ; medium: 24 ; small: 5\n",
      "Morocco: 1 polygon.s ; big: 2052 ; medium: 1026 ; small: 206\n",
      "Monaco: 1 polygon.s ; big: 24 ; medium: 12 ; small: 3\n",
      "Moldova: 1 polygon.s ; big: 1448 ; medium: 724 ; small: 145\n",
      "Madagascar: 3 polygon.s ; big: 3298 ; medium: 1649 ; small: 331\n",
      "Maldives: 176 polygon.s ; big: 2980 ; medium: 1490 ; small: 369\n",
      "Mexico: 51 polygon.s ; big: 14846 ; medium: 7423 ; small: 1506\n",
      "Marshall Islands: 22 polygon.s ; big: 422 ; medium: 211 ; small: 50\n",
      "Macedonia: 1 polygon.s ; big: 730 ; medium: 365 ; small: 73\n",
      "Mali: 1 polygon.s ; big: 3502 ; medium: 1751 ; small: 351\n",
      "Malta: 2 polygon.s ; big: 110 ; medium: 55 ; small: 12\n",
      "Myanmar: 39 polygon.s ; big: 9216 ; medium: 4608 ; small: 939\n",
      "Montenegro: 1 polygon.s ; big: 720 ; medium: 360 ; small: 72\n",
      "Mongolia: 1 polygon.s ; big: 2990 ; medium: 1495 ; small: 299\n",
      "Northern Mariana Islands: 12 polygon.s ; big: 366 ; medium: 183 ; small: 40\n",
      "Mozambique: 4 polygon.s ; big: 4612 ; medium: 2306 ; small: 463\n",
      "Mauritania: 5 polygon.s ; big: 2300 ; medium: 1150 ; small: 232\n",
      "Montserrat: 1 polygon.s ; big: 46 ; medium: 23 ; small: 5\n",
      "Mauritius: 3 polygon.s ; big: 226 ; medium: 113 ; small: 24\n",
      "Malawi: 3 polygon.s ; big: 1630 ; medium: 815 ; small: 165\n",
      "Malaysia: 17 polygon.s ; big: 5096 ; medium: 2548 ; small: 517\n",
      "Namibia: 1 polygon.s ; big: 2366 ; medium: 1183 ; small: 237\n",
      "New Caledonia: 11 polygon.s ; big: 1972 ; medium: 986 ; small: 201\n",
      "Niger: 1 polygon.s ; big: 2084 ; medium: 1042 ; small: 209\n",
      "Norfolk Island: 1 polygon.s ; big: 52 ; medium: 26 ; small: 6\n",
      "Nigeria: 3 polygon.s ; big: 3548 ; medium: 1774 ; small: 356\n",
      "Nicaragua: 4 polygon.s ; big: 1856 ; medium: 928 ; small: 188\n",
      "Niue: 1 polygon.s ; big: 72 ; medium: 36 ; small: 8\n",
      "Netherlands: 12 polygon.s ; big: 1712 ; medium: 856 ; small: 175\n",
      "Norway: 120 polygon.s ; big: 31642 ; medium: 15821 ; small: 3209\n",
      "Nepal: 1 polygon.s ; big: 2050 ; medium: 1025 ; small: 205\n",
      "Nauru: 1 polygon.s ; big: 18 ; medium: 9 ; small: 2\n",
      "New Zealand: 25 polygon.s ; big: 9018 ; medium: 4509 ; small: 912\n",
      "Oman: 6 polygon.s ; big: 2062 ; medium: 1031 ; small: 208\n",
      "Pakistan: 2 polygon.s ; big: 4288 ; medium: 2144 ; small: 430\n",
      "Panama: 15 polygon.s ; big: 4000 ; medium: 2000 ; small: 405\n",
      "Pitcairn Islands: 4 polygon.s ; big: 76 ; medium: 38 ; small: 9\n",
      "Peru: 5 polygon.s ; big: 4846 ; medium: 2423 ; small: 487\n",
      "Spratly Islands: 12 polygon.s ; big: 204 ; medium: 102 ; small: 25\n",
      "Philippines: 96 polygon.s ; big: 14780 ; medium: 7390 ; small: 1512\n",
      "Palau: 9 polygon.s ; big: 330 ; medium: 165 ; small: 36\n",
      "Papua New Guinea: 58 polygon.s ; big: 9590 ; medium: 4795 ; small: 981\n",
      "Poland: 1 polygon.s ; big: 2672 ; medium: 1336 ; small: 268\n",
      "Puerto Rico: 4 polygon.s ; big: 606 ; medium: 303 ; small: 62\n",
      "North Korea: 10 polygon.s ; big: 3570 ; medium: 1785 ; small: 362\n",
      "Portugal: 17 polygon.s ; big: 2510 ; medium: 1255 ; small: 256\n",
      "Paraguay: 1 polygon.s ; big: 2288 ; medium: 1144 ; small: 229\n",
      "Palestine: 2 polygon.s ; big: 368 ; medium: 184 ; small: 38\n",
      "French Polynesia: 88 polygon.s ; big: 2086 ; medium: 1043 ; small: 245\n",
      "Qatar: 1 polygon.s ; big: 482 ; medium: 241 ; small: 49\n",
      "Romania: 1 polygon.s ; big: 2402 ; medium: 1201 ; small: 241\n",
      "Russia: 213 polygon.s ; big: 72704 ; medium: 36352 ; small: 7358\n",
      "Rwanda: 1 polygon.s ; big: 642 ; medium: 321 ; small: 65\n",
      "Western Sahara: 1 polygon.s ; big: 584 ; medium: 292 ; small: 59\n",
      "Saudi Arabia: 11 polygon.s ; big: 4748 ; medium: 2374 ; small: 479\n",
      "Scarborough Reef: 1 polygon.s ; big: 10 ; medium: 5 ; small: 1\n",
      "Sudan: 2 polygon.s ; big: 2352 ; medium: 1176 ; small: 236\n",
      "South Sudan: 1 polygon.s ; big: 2312 ; medium: 1156 ; small: 232\n",
      "Senegal: 1 polygon.s ; big: 2758 ; medium: 1379 ; small: 276\n",
      "Serranilla Bank: 1 polygon.s ; big: 8 ; medium: 4 ; small: 1\n",
      "Singapore: 1 polygon.s ; big: 80 ; medium: 40 ; small: 8\n",
      "South Georgia and South Sandwich Islands: 12 polygon.s ; big: 1172 ; medium: 586 ; small: 123\n",
      "Saint Helena: 4 polygon.s ; big: 166 ; medium: 83 ; small: 19\n",
      "Solomon Islands: 48 polygon.s ; big: 4354 ; medium: 2177 ; small: 454\n",
      "Sierra Leone: 2 polygon.s ; big: 1390 ; medium: 695 ; small: 140\n",
      "El Salvador: 3 polygon.s ; big: 760 ; medium: 380 ; small: 77\n",
      "San Marino: 1 polygon.s ; big: 38 ; medium: 19 ; small: 4\n",
      "Somaliland: 1 polygon.s ; big: 640 ; medium: 320 ; small: 64\n",
      "Somalia: 1 polygon.s ; big: 1340 ; medium: 670 ; small: 134\n",
      "Saint Pierre and Miquelon: 2 polygon.s ; big: 164 ; medium: 82 ; small: 17\n",
      "Republic of Serbia: 1 polygon.s ; big: 1876 ; medium: 938 ; small: 188\n",
      "Sao Tome and Principe: 2 polygon.s ; big: 192 ; medium: 96 ; small: 20\n",
      "Suriname: 1 polygon.s ; big: 1476 ; medium: 738 ; small: 148\n",
      "Slovakia: 1 polygon.s ; big: 1146 ; medium: 573 ; small: 115\n",
      "Slovenia: 1 polygon.s ; big: 1038 ; medium: 519 ; small: 104\n",
      "Sweden: 41 polygon.s ; big: 9334 ; medium: 4667 ; small: 951\n",
      "Swaziland: 1 polygon.s ; big: 172 ; medium: 86 ; small: 18\n",
      "Sint Maarten: 1 polygon.s ; big: 18 ; medium: 9 ; small: 2\n",
      "Seychelles: 26 polygon.s ; big: 660 ; medium: 330 ; small: 75\n",
      "Syria: 1 polygon.s ; big: 1198 ; medium: 599 ; small: 120\n",
      "Turks and Caicos Islands: 12 polygon.s ; big: 426 ; medium: 213 ; small: 47\n",
      "Chad: 1 polygon.s ; big: 2432 ; medium: 1216 ; small: 244\n",
      "Togo: 1 polygon.s ; big: 976 ; medium: 488 ; small: 98\n",
      "Thailand: 20 polygon.s ; big: 6646 ; medium: 3323 ; small: 671\n",
      "Tajikistan: 3 polygon.s ; big: 2526 ; medium: 1263 ; small: 254\n",
      "Turkmenistan: 3 polygon.s ; big: 3334 ; medium: 1667 ; small: 335\n",
      "East Timor: 3 polygon.s ; big: 560 ; medium: 280 ; small: 57\n",
      "Tonga: 10 polygon.s ; big: 424 ; medium: 212 ; small: 46\n",
      "Trinidad and Tobago: 2 polygon.s ; big: 392 ; medium: 196 ; small: 40\n",
      "Tunisia: 4 polygon.s ; big: 1402 ; medium: 701 ; small: 143\n",
      "Turkey: 6 polygon.s ; big: 7292 ; medium: 3646 ; small: 732\n",
      "Tuvalu: 9 polygon.s ; big: 138 ; medium: 69 ; small: 18\n",
      "Taiwan: 8 polygon.s ; big: 1122 ; medium: 561 ; small: 116\n",
      "United Republic of Tanzania: 7 polygon.s ; big: 3524 ; medium: 1762 ; small: 356\n",
      "Uganda: 1 polygon.s ; big: 1222 ; medium: 611 ; small: 123\n",
      "Ukraine: 4 polygon.s ; big: 5992 ; medium: 2996 ; small: 601\n",
      "United States Minor Outlying Islands: 13 polygon.s ; big: 246 ; medium: 123 ; small: 29\n",
      "Uruguay: 1 polygon.s ; big: 1164 ; medium: 582 ; small: 117\n",
      "United States of America: 346 polygon.s ; big: 72108 ; medium: 36054 ; small: 7347\n",
      "US Naval Base Guantanamo Bay: 2 polygon.s ; big: 88 ; medium: 44 ; small: 9\n",
      "Uzbekistan: 3 polygon.s ; big: 3358 ; medium: 1679 ; small: 337\n",
      "Vatican: 1 polygon.s ; big: 14 ; medium: 7 ; small: 2\n",
      "Saint Vincent and the Grenadines: 5 polygon.s ; big: 166 ; medium: 83 ; small: 19\n",
      "Venezuela: 29 polygon.s ; big: 6408 ; medium: 3204 ; small: 655\n",
      "British Virgin Islands: 6 polygon.s ; big: 186 ; medium: 93 ; small: 21\n",
      "United States Virgin Islands: 3 polygon.s ; big: 142 ; medium: 71 ; small: 16\n",
      "Vietnam: 25 polygon.s ; big: 8348 ; medium: 4174 ; small: 846\n",
      "Vanuatu: 27 polygon.s ; big: 2030 ; medium: 1015 ; small: 214\n",
      "Wallis and Futuna: 2 polygon.s ; big: 76 ; medium: 38 ; small: 8\n",
      "Akrotiri Sovereign Base Area: 1 polygon.s ; big: 94 ; medium: 47 ; small: 10\n",
      "Samoa: 2 polygon.s ; big: 264 ; medium: 132 ; small: 27\n",
      "Yemen: 9 polygon.s ; big: 2064 ; medium: 1032 ; small: 210\n",
      "South Africa: 3 polygon.s ; big: 3768 ; medium: 1884 ; small: 378\n",
      "Zambia: 1 polygon.s ; big: 3016 ; medium: 1508 ; small: 302\n",
      "Zimbabwe: 1 polygon.s ; big: 1532 ; medium: 766 ; small: 154\n"
     ]
    }
   ],
   "source": [
    "for c in countries_list:\n",
    "    print(c)"
   ]
  },
  {
   "cell_type": "code",
   "execution_count": null,
   "metadata": {},
   "outputs": [],
   "source": [
    "with open('countries_list', 'wb') as f:\n",
    "    pickle.dump(countries_list, f)"
   ]
  },
  {
   "cell_type": "code",
   "execution_count": 132,
   "metadata": {
    "scrolled": false
   },
   "outputs": [],
   "source": [
    "def pickle_load(filename):\n",
    "    with open(filename, 'rb') as f:\n",
    "        return pickle.load(f)\n",
    "\n",
    "cl = pickle_load('countries_list')"
   ]
  },
  {
   "cell_type": "code",
   "execution_count": 126,
   "metadata": {},
   "outputs": [],
   "source": [
    "def flatten(array):\n",
    "    while not check(array):\n",
    "        for a in array:\n",
    "            if type(a) is list:\n",
    "                array += a\n",
    "                array.remove(a)\n",
    "    return array\n",
    "\n",
    "def check(array):\n",
    "    for a in array:\n",
    "        if type(a) is not float:\n",
    "            return False\n",
    "    return True"
   ]
  },
  {
   "cell_type": "code",
   "execution_count": 156,
   "metadata": {},
   "outputs": [],
   "source": [
    "v = [c.polygons_big for c in cl]"
   ]
  },
  {
   "cell_type": "code",
   "execution_count": 157,
   "metadata": {},
   "outputs": [],
   "source": [
    "a = []\n",
    "for i in v:\n",
    "    for j in i:\n",
    "        a += j"
   ]
  },
  {
   "cell_type": "code",
   "execution_count": 159,
   "metadata": {},
   "outputs": [
    {
     "data": {
      "text/plain": [
       "(-180.0, 180.0000000000002, -83.63410065300012, 90.0)"
      ]
     },
     "execution_count": 159,
     "metadata": {},
     "output_type": "execute_result"
    }
   ],
   "source": [
    "low_x, high_x, low_y, high_y = 0, 0, 0, 0\n",
    "for i in range(len(a)):\n",
    "    if i % 2 == 0:\n",
    "        low_x = a[i] if a[i] < low_x else low_x\n",
    "        high_x = a[i] if a[i] > high_x else high_x\n",
    "    else:\n",
    "        low_y = a[i] if a[i] < low_y else low_y\n",
    "        high_y = a[i] if a[i] > high_y else high_y\n",
    "\n",
    "low_x, high_x, low_y, high_y"
   ]
  },
  {
   "cell_type": "code",
   "execution_count": null,
   "metadata": {},
   "outputs": [],
   "source": []
  }
 ],
 "metadata": {
  "kernelspec": {
   "display_name": "Python 3",
   "language": "python",
   "name": "python3"
  },
  "language_info": {
   "codemirror_mode": {
    "name": "ipython",
    "version": 3
   },
   "file_extension": ".py",
   "mimetype": "text/x-python",
   "name": "python",
   "nbconvert_exporter": "python",
   "pygments_lexer": "ipython3",
   "version": "3.7.7"
  },
  "pycharm": {
   "stem_cell": {
    "cell_type": "raw",
    "metadata": {
     "collapsed": false
    },
    "source": []
   }
  }
 },
 "nbformat": 4,
 "nbformat_minor": 1
}
